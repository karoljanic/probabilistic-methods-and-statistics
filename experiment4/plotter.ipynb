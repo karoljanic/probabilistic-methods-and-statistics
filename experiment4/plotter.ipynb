{
 "cells": [
  {
   "cell_type": "code",
   "execution_count": 2,
   "metadata": {},
   "outputs": [],
   "source": [
    "import pandas as pd\n",
    "import numpy as np\n",
    "\n",
    "import matplotlib.pyplot as plt\n",
    "from matplotlib.patches import Rectangle\n",
    "\n",
    "import math\n",
    "\n",
    "def generate_chart(path_to_data, functions_to_compare, titles, yranges):\n",
    "    df = pd.read_csv(path_to_data)\n",
    "    data = np.array(df.values)\n",
    "    \n",
    "    fig = plt.figure()\n",
    "    gs = fig.add_gridspec(len(functions_to_compare), 2, width_ratios=[2,1])\n",
    "    fig.add_subplot(gs[:, 0])\n",
    "\n",
    "    xs = [series[0] for series in data]\n",
    "    ys = [series[1:] for series in data]\n",
    "    avgs = [sum(y) / len(y) for y in ys]\n",
    "\n",
    "    \n",
    "    for x, y, a in zip(xs, ys, avgs):\n",
    "        plt.scatter([x] * len(y), y, color='g', marker='s', s=10)\n",
    "        plt.scatter(x, a, color='b', marker='s', s=15)\n",
    "\n",
    "    plt.title('Simulating random walk on ${}$ $50$ times for each $n$'.format(titles[0]))\n",
    "    plt.xlabel('n')\n",
    "    plt.ylabel(r\"coverage time - $\\tau_{\" + titles[0] + \"}$\")\n",
    "    plt.ylim(*yranges[0])\n",
    "\n",
    "    greenExtra = Rectangle((0, 0), 1, 1, color='green')\n",
    "    blueExtra = Rectangle((0, 0), 1, 1, color='blue')\n",
    "    plt.legend([greenExtra, blueExtra], ['Single result', 'Average result']) \n",
    "\n",
    "    for index, fun in enumerate(functions_to_compare):\n",
    "        fig.add_subplot(gs[index, 1])\n",
    "        \n",
    "        ys = [avg / fun(n) for avg,n in zip(avgs, xs)]\n",
    "        plt.scatter(xs, ys, color='b', marker='s', s=10)\n",
    "        \n",
    "        plt.title(titles[index + 1])\n",
    "        plt.ylim(*yranges[index + 1])\n",
    "        plt.xlabel('n')\n",
    "        plt.legend([blueExtra], ['Average result'])\n",
    "\n",
    "    plt.subplots_adjust(hspace=0.7)\n",
    "    plt.rcParams[\"figure.figsize\"] = (10, 7)\n",
    "    plt.show()"
   ]
  }
 ],
 "metadata": {
  "kernelspec": {
   "display_name": "Python 3.10.10 64-bit",
   "language": "python",
   "name": "python3"
  },
  "language_info": {
   "codemirror_mode": {
    "name": "ipython",
    "version": 3
   },
   "file_extension": ".py",
   "mimetype": "text/x-python",
   "name": "python",
   "nbconvert_exporter": "python",
   "pygments_lexer": "ipython3",
   "version": "3.10.10"
  },
  "orig_nbformat": 4,
  "vscode": {
   "interpreter": {
    "hash": "e7370f93d1d0cde622a1f8e1c04877d8463912d04d973331ad4851f04de6915a"
   }
  }
 },
 "nbformat": 4,
 "nbformat_minor": 2
}
